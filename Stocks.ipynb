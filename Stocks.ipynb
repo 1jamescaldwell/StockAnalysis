{
  "metadata": {
    "language_info": {
      "codemirror_mode": {
        "name": "python",
        "version": 3
      },
      "file_extension": ".py",
      "mimetype": "text/x-python",
      "name": "python",
      "nbconvert_exporter": "python",
      "pygments_lexer": "ipython3",
      "version": "3.8"
    },
    "kernelspec": {
      "name": "python",
      "display_name": "Python (Pyodide)",
      "language": "python"
    }
  },
  "nbformat_minor": 4,
  "nbformat": 4,
  "cells": [
    {
      "cell_type": "markdown",
      "source": "Stocks\nSep-October 2023\n\nThings I learned doing this project:\n    \n    Python Data import (CSV)\n    \n    Jupyter interface/use\n    \n    Pandas DataFrame use\n    ",
      "metadata": {}
    },
    {
      "cell_type": "code",
      "source": "import pandas as pd\n\nrobinhoodData = pd.read_csv('Robinhood CSV Sample Data.csv') # Data is random and not my own fincancial information or stock buys/sells",
      "metadata": {
        "trusted": true
      },
      "execution_count": 3,
      "outputs": []
    },
    {
      "cell_type": "code",
      "source": "robinhoodData.head()",
      "metadata": {
        "trusted": true
      },
      "execution_count": 4,
      "outputs": [
        {
          "execution_count": 4,
          "output_type": "execute_result",
          "data": {
            "text/plain": "  Activity Date Process Date Settle Date Instrument  \\\n0     9/22/2023    9/22/2023   9/26/2023       SPYG   \n1     9/21/2023    9/21/2023   9/21/2023       SPYG   \n2     9/19/2023    9/19/2023   9/21/2023       SPYG   \n3     9/18/2023    9/18/2023   9/20/2023        NEE   \n4     9/15/2023    9/15/2023   9/15/2023        NEE   \n\n                                         Description Trans Code  Quantity  \\\n0                  SPDR Portfolio S&P 500 Growth ETF        Buy       9.0   \n1  Cash Div: R/D 2023-09-19 P/D 2023-09-21 - 340....       CDIV       1.0   \n2                  SPDR Portfolio S&P 500 Growth ETF        Buy      -6.0   \n3                                     NextEra Energy        Buy       3.0   \n4  Cash Div: R/D 2023-08-30 P/D 2023-09-15 - 31.1...       CDIV     -10.0   \n\n      Price    Amount Suppressed  \n0    $4.00     $5.00           N  \n1  ($10.00)  ($10.00)          N  \n2    $9.00    ($4.00)          N  \n3  ($10.00)  ($10.00)          N  \n4    $4.00    ($6.00)          N  ",
            "text/html": "<div>\n<style scoped>\n    .dataframe tbody tr th:only-of-type {\n        vertical-align: middle;\n    }\n\n    .dataframe tbody tr th {\n        vertical-align: top;\n    }\n\n    .dataframe thead th {\n        text-align: right;\n    }\n</style>\n<table border=\"1\" class=\"dataframe\">\n  <thead>\n    <tr style=\"text-align: right;\">\n      <th></th>\n      <th>Activity Date</th>\n      <th>Process Date</th>\n      <th>Settle Date</th>\n      <th>Instrument</th>\n      <th>Description</th>\n      <th>Trans Code</th>\n      <th>Quantity</th>\n      <th>Price</th>\n      <th>Amount</th>\n      <th>Suppressed</th>\n    </tr>\n  </thead>\n  <tbody>\n    <tr>\n      <th>0</th>\n      <td>9/22/2023</td>\n      <td>9/22/2023</td>\n      <td>9/26/2023</td>\n      <td>SPYG</td>\n      <td>SPDR Portfolio S&amp;P 500 Growth ETF</td>\n      <td>Buy</td>\n      <td>9.0</td>\n      <td>$4.00</td>\n      <td>$5.00</td>\n      <td>N</td>\n    </tr>\n    <tr>\n      <th>1</th>\n      <td>9/21/2023</td>\n      <td>9/21/2023</td>\n      <td>9/21/2023</td>\n      <td>SPYG</td>\n      <td>Cash Div: R/D 2023-09-19 P/D 2023-09-21 - 340....</td>\n      <td>CDIV</td>\n      <td>1.0</td>\n      <td>($10.00)</td>\n      <td>($10.00)</td>\n      <td>N</td>\n    </tr>\n    <tr>\n      <th>2</th>\n      <td>9/19/2023</td>\n      <td>9/19/2023</td>\n      <td>9/21/2023</td>\n      <td>SPYG</td>\n      <td>SPDR Portfolio S&amp;P 500 Growth ETF</td>\n      <td>Buy</td>\n      <td>-6.0</td>\n      <td>$9.00</td>\n      <td>($4.00)</td>\n      <td>N</td>\n    </tr>\n    <tr>\n      <th>3</th>\n      <td>9/18/2023</td>\n      <td>9/18/2023</td>\n      <td>9/20/2023</td>\n      <td>NEE</td>\n      <td>NextEra Energy</td>\n      <td>Buy</td>\n      <td>3.0</td>\n      <td>($10.00)</td>\n      <td>($10.00)</td>\n      <td>N</td>\n    </tr>\n    <tr>\n      <th>4</th>\n      <td>9/15/2023</td>\n      <td>9/15/2023</td>\n      <td>9/15/2023</td>\n      <td>NEE</td>\n      <td>Cash Div: R/D 2023-08-30 P/D 2023-09-15 - 31.1...</td>\n      <td>CDIV</td>\n      <td>-10.0</td>\n      <td>$4.00</td>\n      <td>($6.00)</td>\n      <td>N</td>\n    </tr>\n  </tbody>\n</table>\n</div>"
          },
          "metadata": {}
        }
      ]
    },
    {
      "cell_type": "code",
      "source": "# robinhoodData.describe()",
      "metadata": {
        "trusted": true
      },
      "execution_count": 5,
      "outputs": []
    },
    {
      "cell_type": "markdown",
      "source": "So the goal is to get an account for sells that may take place now, and determine when they were bought and at what price\n\n\nProcess:\n\n1. Tally all buys for a stock\nstart subtracting sells \n    remove a buy from the \"active\" list once the value of the sell is there\nResult in \"buys\" that are still active\n\n2. Summarize how much of each stock is currently owned\n\n3. If you want to sell a stock, put in the stock price and determine the net ",
      "metadata": {}
    },
    {
      "cell_type": "markdown",
      "source": "Gets all the rows where the Trans Code is a Buy or Sell\n",
      "metadata": {}
    },
    {
      "cell_type": "code",
      "source": "RH_Stocks = robinhoodData[ (robinhoodData['Trans Code'] == 'Buy') | (robinhoodData['Trans Code'] == 'Sell')] \nRH_Stocks.head(15)",
      "metadata": {
        "trusted": true
      },
      "execution_count": 6,
      "outputs": [
        {
          "execution_count": 6,
          "output_type": "execute_result",
          "data": {
            "text/plain": "   Activity Date Process Date Settle Date Instrument  \\\n0      9/22/2023    9/22/2023   9/26/2023       SPYG   \n2      9/19/2023    9/19/2023   9/21/2023       SPYG   \n3      9/18/2023    9/18/2023   9/20/2023        NEE   \n5      9/15/2023    9/15/2023   9/19/2023       SPYG   \n6      9/15/2023    9/15/2023   9/19/2023         HD   \n7      9/15/2023    9/15/2023   9/19/2023       MSFT   \n10     9/13/2023    9/13/2023   9/15/2023       ABNB   \n11      9/5/2023     9/5/2023    9/7/2023       SPYG   \n13      9/1/2023     9/1/2023    9/6/2023        LOW   \n14      9/1/2023     9/1/2023    9/6/2023         HD   \n16     8/22/2023    8/22/2023   8/24/2023       SPYG   \n18      8/8/2023     8/8/2023   8/10/2023       SPYG   \n20      8/1/2023     8/1/2023    8/3/2023        LOW   \n21      8/1/2023     8/1/2023    8/3/2023         HD   \n23     7/25/2023    7/25/2023   7/27/2023       SPYG   \n\n                          Description Trans Code  Quantity     Price  \\\n0   SPDR Portfolio S&P 500 Growth ETF        Buy       9.0    $4.00    \n2   SPDR Portfolio S&P 500 Growth ETF        Buy      -6.0    $9.00    \n3                      NextEra Energy        Buy       3.0  ($10.00)   \n5   SPDR Portfolio S&P 500 Growth ETF        Buy      -1.0  ($10.00)   \n6                          Home Depot        Buy     -10.0    $4.00    \n7                           Microsoft        Buy       2.0    $2.00    \n10                             Airbnb       Sell      -6.0    $8.00    \n11  SPDR Portfolio S&P 500 Growth ETF        Buy      -7.0    $9.00    \n13                             Lowe's        Buy       5.0   ($2.00)   \n14                         Home Depot        Buy      -7.0    $8.00    \n16  SPDR Portfolio S&P 500 Growth ETF        Buy       2.0   ($6.00)   \n18  SPDR Portfolio S&P 500 Growth ETF        Buy       8.0    $5.00    \n20                             Lowe's        Buy      -7.0   ($9.00)   \n21                         Home Depot        Buy       2.0    $5.00    \n23  SPDR Portfolio S&P 500 Growth ETF        Buy       5.0   ($9.00)   \n\n      Amount Suppressed  \n0     $5.00           N  \n2    ($4.00)          N  \n3   ($10.00)          N  \n5     $0.00           N  \n6    ($8.00)          N  \n7    ($1.00)          N  \n10    $7.00           N  \n11    $5.00           N  \n13  ($10.00)          N  \n14    $5.00           N  \n16   ($3.00)          N  \n18    $2.00           N  \n20   ($3.00)          N  \n21    $0.00           N  \n23    $7.00           N  ",
            "text/html": "<div>\n<style scoped>\n    .dataframe tbody tr th:only-of-type {\n        vertical-align: middle;\n    }\n\n    .dataframe tbody tr th {\n        vertical-align: top;\n    }\n\n    .dataframe thead th {\n        text-align: right;\n    }\n</style>\n<table border=\"1\" class=\"dataframe\">\n  <thead>\n    <tr style=\"text-align: right;\">\n      <th></th>\n      <th>Activity Date</th>\n      <th>Process Date</th>\n      <th>Settle Date</th>\n      <th>Instrument</th>\n      <th>Description</th>\n      <th>Trans Code</th>\n      <th>Quantity</th>\n      <th>Price</th>\n      <th>Amount</th>\n      <th>Suppressed</th>\n    </tr>\n  </thead>\n  <tbody>\n    <tr>\n      <th>0</th>\n      <td>9/22/2023</td>\n      <td>9/22/2023</td>\n      <td>9/26/2023</td>\n      <td>SPYG</td>\n      <td>SPDR Portfolio S&amp;P 500 Growth ETF</td>\n      <td>Buy</td>\n      <td>9.0</td>\n      <td>$4.00</td>\n      <td>$5.00</td>\n      <td>N</td>\n    </tr>\n    <tr>\n      <th>2</th>\n      <td>9/19/2023</td>\n      <td>9/19/2023</td>\n      <td>9/21/2023</td>\n      <td>SPYG</td>\n      <td>SPDR Portfolio S&amp;P 500 Growth ETF</td>\n      <td>Buy</td>\n      <td>-6.0</td>\n      <td>$9.00</td>\n      <td>($4.00)</td>\n      <td>N</td>\n    </tr>\n    <tr>\n      <th>3</th>\n      <td>9/18/2023</td>\n      <td>9/18/2023</td>\n      <td>9/20/2023</td>\n      <td>NEE</td>\n      <td>NextEra Energy</td>\n      <td>Buy</td>\n      <td>3.0</td>\n      <td>($10.00)</td>\n      <td>($10.00)</td>\n      <td>N</td>\n    </tr>\n    <tr>\n      <th>5</th>\n      <td>9/15/2023</td>\n      <td>9/15/2023</td>\n      <td>9/19/2023</td>\n      <td>SPYG</td>\n      <td>SPDR Portfolio S&amp;P 500 Growth ETF</td>\n      <td>Buy</td>\n      <td>-1.0</td>\n      <td>($10.00)</td>\n      <td>$0.00</td>\n      <td>N</td>\n    </tr>\n    <tr>\n      <th>6</th>\n      <td>9/15/2023</td>\n      <td>9/15/2023</td>\n      <td>9/19/2023</td>\n      <td>HD</td>\n      <td>Home Depot</td>\n      <td>Buy</td>\n      <td>-10.0</td>\n      <td>$4.00</td>\n      <td>($8.00)</td>\n      <td>N</td>\n    </tr>\n    <tr>\n      <th>7</th>\n      <td>9/15/2023</td>\n      <td>9/15/2023</td>\n      <td>9/19/2023</td>\n      <td>MSFT</td>\n      <td>Microsoft</td>\n      <td>Buy</td>\n      <td>2.0</td>\n      <td>$2.00</td>\n      <td>($1.00)</td>\n      <td>N</td>\n    </tr>\n    <tr>\n      <th>10</th>\n      <td>9/13/2023</td>\n      <td>9/13/2023</td>\n      <td>9/15/2023</td>\n      <td>ABNB</td>\n      <td>Airbnb</td>\n      <td>Sell</td>\n      <td>-6.0</td>\n      <td>$8.00</td>\n      <td>$7.00</td>\n      <td>N</td>\n    </tr>\n    <tr>\n      <th>11</th>\n      <td>9/5/2023</td>\n      <td>9/5/2023</td>\n      <td>9/7/2023</td>\n      <td>SPYG</td>\n      <td>SPDR Portfolio S&amp;P 500 Growth ETF</td>\n      <td>Buy</td>\n      <td>-7.0</td>\n      <td>$9.00</td>\n      <td>$5.00</td>\n      <td>N</td>\n    </tr>\n    <tr>\n      <th>13</th>\n      <td>9/1/2023</td>\n      <td>9/1/2023</td>\n      <td>9/6/2023</td>\n      <td>LOW</td>\n      <td>Lowe's</td>\n      <td>Buy</td>\n      <td>5.0</td>\n      <td>($2.00)</td>\n      <td>($10.00)</td>\n      <td>N</td>\n    </tr>\n    <tr>\n      <th>14</th>\n      <td>9/1/2023</td>\n      <td>9/1/2023</td>\n      <td>9/6/2023</td>\n      <td>HD</td>\n      <td>Home Depot</td>\n      <td>Buy</td>\n      <td>-7.0</td>\n      <td>$8.00</td>\n      <td>$5.00</td>\n      <td>N</td>\n    </tr>\n    <tr>\n      <th>16</th>\n      <td>8/22/2023</td>\n      <td>8/22/2023</td>\n      <td>8/24/2023</td>\n      <td>SPYG</td>\n      <td>SPDR Portfolio S&amp;P 500 Growth ETF</td>\n      <td>Buy</td>\n      <td>2.0</td>\n      <td>($6.00)</td>\n      <td>($3.00)</td>\n      <td>N</td>\n    </tr>\n    <tr>\n      <th>18</th>\n      <td>8/8/2023</td>\n      <td>8/8/2023</td>\n      <td>8/10/2023</td>\n      <td>SPYG</td>\n      <td>SPDR Portfolio S&amp;P 500 Growth ETF</td>\n      <td>Buy</td>\n      <td>8.0</td>\n      <td>$5.00</td>\n      <td>$2.00</td>\n      <td>N</td>\n    </tr>\n    <tr>\n      <th>20</th>\n      <td>8/1/2023</td>\n      <td>8/1/2023</td>\n      <td>8/3/2023</td>\n      <td>LOW</td>\n      <td>Lowe's</td>\n      <td>Buy</td>\n      <td>-7.0</td>\n      <td>($9.00)</td>\n      <td>($3.00)</td>\n      <td>N</td>\n    </tr>\n    <tr>\n      <th>21</th>\n      <td>8/1/2023</td>\n      <td>8/1/2023</td>\n      <td>8/3/2023</td>\n      <td>HD</td>\n      <td>Home Depot</td>\n      <td>Buy</td>\n      <td>2.0</td>\n      <td>$5.00</td>\n      <td>$0.00</td>\n      <td>N</td>\n    </tr>\n    <tr>\n      <th>23</th>\n      <td>7/25/2023</td>\n      <td>7/25/2023</td>\n      <td>7/27/2023</td>\n      <td>SPYG</td>\n      <td>SPDR Portfolio S&amp;P 500 Growth ETF</td>\n      <td>Buy</td>\n      <td>5.0</td>\n      <td>($9.00)</td>\n      <td>$7.00</td>\n      <td>N</td>\n    </tr>\n  </tbody>\n</table>\n</div>"
          },
          "metadata": {}
        }
      ]
    },
    {
      "cell_type": "markdown",
      "source": "Gets a list of all the stock types that have been bought",
      "metadata": {}
    },
    {
      "cell_type": "code",
      "source": "\nuniqueStockList = pd.Series(RH_Stocks.loc[:,'Instrument']).drop_duplicates().tolist()\n        \nprint(uniqueStockList)\n            ",
      "metadata": {
        "trusted": true
      },
      "execution_count": 7,
      "outputs": [
        {
          "name": "stdout",
          "text": "['SPYG', 'NEE', 'HD', 'MSFT', 'ABNB', 'LOW', 'NOBL', 'TSLA', 'BRLT', 'COIN', 'ESPO', 'BYND', 'BABA', 'ANSS', 'DIS', 'BA', 'ARKG', 'ARKK', 'CCL', 'RCL', 'VXUS', 'TGT', 'QQQ', 'AMZN', 'SQ', 'GOOG', 'NIO', 'XONE', 'MMM', 'TROX', 'NTDOY', 'GS', 'META', 'MODG', 'DHI', 'AAPL']\n",
          "output_type": "stream"
        }
      ]
    },
    {
      "cell_type": "markdown",
      "source": "Some stocks may have been sold, bought, sold, bought, etc. Get a total of the stocks currently owned",
      "metadata": {}
    },
    {
      "cell_type": "code",
      "source": "for x in uniqueStockList:\n    \n    UniqueStockData = RH_Stocks.loc[RH_Stocks.Instrument == x]\n    print(x,UniqueStockData['Quantity'].astype('float64').sum(),'\\n')\n",
      "metadata": {
        "trusted": true
      },
      "execution_count": 8,
      "outputs": [
        {
          "name": "stdout",
          "text": "SPYG 36.0 \n\nNEE -94.0 \n\nHD -9.0 \n\nMSFT -41.0 \n\nABNB 20.0 \n\nLOW -2.0 \n\nNOBL -9.0 \n\nTSLA -49.0 \n\nBRLT 0.0 \n\nCOIN 24.0 \n\nESPO 11.0 \n\nBYND -10.0 \n\nBABA 24.0 \n\nANSS 39.0 \n\nDIS 53.0 \n\nBA 76.0 \n\nARKG -23.0 \n\nARKK 13.0 \n\nCCL -1.0 \n\nRCL 45.0 \n\nVXUS -22.0 \n\nTGT 39.0 \n\nQQQ -2.0 \n\nAMZN 18.0 \n\nSQ -4.0 \n\nGOOG -19.0 \n\nNIO -19.0 \n\nXONE -23.0 \n\nMMM 19.0 \n\nTROX 3.0 \n\nNTDOY 1.0 \n\nGS 1.0 \n\nMETA 16.0 \n\nMODG -2.0 \n\nDHI -5.0 \n\nAAPL 9.0 \n\n",
          "output_type": "stream"
        }
      ]
    },
    {
      "cell_type": "markdown",
      "source": "Get TSLA information",
      "metadata": {}
    },
    {
      "cell_type": "code",
      "source": "TSLAStockData = RH_Stocks.loc[RH_Stocks.Instrument == 'TSLA']\n\nTSLAStockData.head(10)",
      "metadata": {
        "trusted": true
      },
      "execution_count": 13,
      "outputs": [
        {
          "execution_count": 13,
          "output_type": "execute_result",
          "data": {
            "text/plain": "    Activity Date Process Date Settle Date Instrument Description Trans Code  \\\n31      6/28/2023    6/28/2023   6/30/2023       TSLA       Tesla       Sell   \n230      5/9/2022     5/9/2022   5/11/2022       TSLA       Tesla        Buy   \n246     4/28/2022    4/28/2022    5/2/2022       TSLA       Tesla        Buy   \n344    12/30/2021   12/30/2021    1/3/2022       TSLA       Tesla        Buy   \n345    12/30/2021   12/30/2021    1/3/2022       TSLA       Tesla       Sell   \n532     3/16/2021    3/16/2021   3/18/2021       TSLA       Tesla        Buy   \n552      3/2/2021     3/2/2021    3/4/2021       TSLA       Tesla        Buy   \n565     2/16/2021    2/16/2021   2/18/2021       TSLA       Tesla        Buy   \n570      2/2/2021     2/2/2021    2/4/2021       TSLA       Tesla        Buy   \n581     1/19/2021    1/19/2021   1/21/2021       TSLA       Tesla        Buy   \n\n     Quantity    Price    Amount Suppressed  \n31        9.0   $0.00    ($9.00)          N  \n230       0.0  ($2.00)    $4.00           N  \n246      10.0  ($4.00)   ($8.00)          N  \n344      -6.0  ($7.00)    $4.00           N  \n345     -10.0  ($9.00)   ($5.00)          N  \n532       7.0  ($3.00)  ($10.00)          N  \n552      -1.0   $7.00     $3.00           N  \n565     -10.0   $3.00    ($5.00)          N  \n570      -3.0  $10.00    ($2.00)          N  \n581     -10.0   $9.00    ($5.00)          N  ",
            "text/html": "<div>\n<style scoped>\n    .dataframe tbody tr th:only-of-type {\n        vertical-align: middle;\n    }\n\n    .dataframe tbody tr th {\n        vertical-align: top;\n    }\n\n    .dataframe thead th {\n        text-align: right;\n    }\n</style>\n<table border=\"1\" class=\"dataframe\">\n  <thead>\n    <tr style=\"text-align: right;\">\n      <th></th>\n      <th>Activity Date</th>\n      <th>Process Date</th>\n      <th>Settle Date</th>\n      <th>Instrument</th>\n      <th>Description</th>\n      <th>Trans Code</th>\n      <th>Quantity</th>\n      <th>Price</th>\n      <th>Amount</th>\n      <th>Suppressed</th>\n    </tr>\n  </thead>\n  <tbody>\n    <tr>\n      <th>31</th>\n      <td>6/28/2023</td>\n      <td>6/28/2023</td>\n      <td>6/30/2023</td>\n      <td>TSLA</td>\n      <td>Tesla</td>\n      <td>Sell</td>\n      <td>9.0</td>\n      <td>$0.00</td>\n      <td>($9.00)</td>\n      <td>N</td>\n    </tr>\n    <tr>\n      <th>230</th>\n      <td>5/9/2022</td>\n      <td>5/9/2022</td>\n      <td>5/11/2022</td>\n      <td>TSLA</td>\n      <td>Tesla</td>\n      <td>Buy</td>\n      <td>0.0</td>\n      <td>($2.00)</td>\n      <td>$4.00</td>\n      <td>N</td>\n    </tr>\n    <tr>\n      <th>246</th>\n      <td>4/28/2022</td>\n      <td>4/28/2022</td>\n      <td>5/2/2022</td>\n      <td>TSLA</td>\n      <td>Tesla</td>\n      <td>Buy</td>\n      <td>10.0</td>\n      <td>($4.00)</td>\n      <td>($8.00)</td>\n      <td>N</td>\n    </tr>\n    <tr>\n      <th>344</th>\n      <td>12/30/2021</td>\n      <td>12/30/2021</td>\n      <td>1/3/2022</td>\n      <td>TSLA</td>\n      <td>Tesla</td>\n      <td>Buy</td>\n      <td>-6.0</td>\n      <td>($7.00)</td>\n      <td>$4.00</td>\n      <td>N</td>\n    </tr>\n    <tr>\n      <th>345</th>\n      <td>12/30/2021</td>\n      <td>12/30/2021</td>\n      <td>1/3/2022</td>\n      <td>TSLA</td>\n      <td>Tesla</td>\n      <td>Sell</td>\n      <td>-10.0</td>\n      <td>($9.00)</td>\n      <td>($5.00)</td>\n      <td>N</td>\n    </tr>\n    <tr>\n      <th>532</th>\n      <td>3/16/2021</td>\n      <td>3/16/2021</td>\n      <td>3/18/2021</td>\n      <td>TSLA</td>\n      <td>Tesla</td>\n      <td>Buy</td>\n      <td>7.0</td>\n      <td>($3.00)</td>\n      <td>($10.00)</td>\n      <td>N</td>\n    </tr>\n    <tr>\n      <th>552</th>\n      <td>3/2/2021</td>\n      <td>3/2/2021</td>\n      <td>3/4/2021</td>\n      <td>TSLA</td>\n      <td>Tesla</td>\n      <td>Buy</td>\n      <td>-1.0</td>\n      <td>$7.00</td>\n      <td>$3.00</td>\n      <td>N</td>\n    </tr>\n    <tr>\n      <th>565</th>\n      <td>2/16/2021</td>\n      <td>2/16/2021</td>\n      <td>2/18/2021</td>\n      <td>TSLA</td>\n      <td>Tesla</td>\n      <td>Buy</td>\n      <td>-10.0</td>\n      <td>$3.00</td>\n      <td>($5.00)</td>\n      <td>N</td>\n    </tr>\n    <tr>\n      <th>570</th>\n      <td>2/2/2021</td>\n      <td>2/2/2021</td>\n      <td>2/4/2021</td>\n      <td>TSLA</td>\n      <td>Tesla</td>\n      <td>Buy</td>\n      <td>-3.0</td>\n      <td>$10.00</td>\n      <td>($2.00)</td>\n      <td>N</td>\n    </tr>\n    <tr>\n      <th>581</th>\n      <td>1/19/2021</td>\n      <td>1/19/2021</td>\n      <td>1/21/2021</td>\n      <td>TSLA</td>\n      <td>Tesla</td>\n      <td>Buy</td>\n      <td>-10.0</td>\n      <td>$9.00</td>\n      <td>($5.00)</td>\n      <td>N</td>\n    </tr>\n  </tbody>\n</table>\n</div>"
          },
          "metadata": {}
        }
      ]
    },
    {
      "cell_type": "markdown",
      "source": "Tesla had a stock split on 8/25/22\n\n-> Need to adjust quantity and price for data before this date so it can be compared to now\nIf transaction was before 8/25/22, quantity = 5x and price = /5\n\n",
      "metadata": {}
    },
    {
      "cell_type": "code",
      "source": "\n    \nTSLAStockData.loc[pd.to_datetime(TSLAStockData['Activity Date']) <= '2022-08-25', 'Quantity'] = 2\n    #In progress, left of here\nTSLAStockData.head(10)\n",
      "metadata": {
        "trusted": true
      },
      "execution_count": 12,
      "outputs": [
        {
          "execution_count": 12,
          "output_type": "execute_result",
          "data": {
            "text/plain": "    Activity Date Process Date Settle Date Instrument Description Trans Code  \\\n31      6/28/2023    6/28/2023   6/30/2023       TSLA       Tesla       Sell   \n230      5/9/2022     5/9/2022   5/11/2022       TSLA       Tesla        Buy   \n246     4/28/2022    4/28/2022    5/2/2022       TSLA       Tesla        Buy   \n344    12/30/2021   12/30/2021    1/3/2022       TSLA       Tesla        Buy   \n345    12/30/2021   12/30/2021    1/3/2022       TSLA       Tesla       Sell   \n532     3/16/2021    3/16/2021   3/18/2021       TSLA       Tesla        Buy   \n552      3/2/2021     3/2/2021    3/4/2021       TSLA       Tesla        Buy   \n565     2/16/2021    2/16/2021   2/18/2021       TSLA       Tesla        Buy   \n570      2/2/2021     2/2/2021    2/4/2021       TSLA       Tesla        Buy   \n581     1/19/2021    1/19/2021   1/21/2021       TSLA       Tesla        Buy   \n\n     Quantity    Price    Amount Suppressed  \n31        9.0   $0.00    ($9.00)          N  \n230       2.0  ($2.00)    $4.00           N  \n246       2.0  ($4.00)   ($8.00)          N  \n344       2.0  ($7.00)    $4.00           N  \n345       2.0  ($9.00)   ($5.00)          N  \n532       2.0  ($3.00)  ($10.00)          N  \n552       2.0   $7.00     $3.00           N  \n565       2.0   $3.00    ($5.00)          N  \n570       2.0  $10.00    ($2.00)          N  \n581       2.0   $9.00    ($5.00)          N  ",
            "text/html": "<div>\n<style scoped>\n    .dataframe tbody tr th:only-of-type {\n        vertical-align: middle;\n    }\n\n    .dataframe tbody tr th {\n        vertical-align: top;\n    }\n\n    .dataframe thead th {\n        text-align: right;\n    }\n</style>\n<table border=\"1\" class=\"dataframe\">\n  <thead>\n    <tr style=\"text-align: right;\">\n      <th></th>\n      <th>Activity Date</th>\n      <th>Process Date</th>\n      <th>Settle Date</th>\n      <th>Instrument</th>\n      <th>Description</th>\n      <th>Trans Code</th>\n      <th>Quantity</th>\n      <th>Price</th>\n      <th>Amount</th>\n      <th>Suppressed</th>\n    </tr>\n  </thead>\n  <tbody>\n    <tr>\n      <th>31</th>\n      <td>6/28/2023</td>\n      <td>6/28/2023</td>\n      <td>6/30/2023</td>\n      <td>TSLA</td>\n      <td>Tesla</td>\n      <td>Sell</td>\n      <td>9.0</td>\n      <td>$0.00</td>\n      <td>($9.00)</td>\n      <td>N</td>\n    </tr>\n    <tr>\n      <th>230</th>\n      <td>5/9/2022</td>\n      <td>5/9/2022</td>\n      <td>5/11/2022</td>\n      <td>TSLA</td>\n      <td>Tesla</td>\n      <td>Buy</td>\n      <td>2.0</td>\n      <td>($2.00)</td>\n      <td>$4.00</td>\n      <td>N</td>\n    </tr>\n    <tr>\n      <th>246</th>\n      <td>4/28/2022</td>\n      <td>4/28/2022</td>\n      <td>5/2/2022</td>\n      <td>TSLA</td>\n      <td>Tesla</td>\n      <td>Buy</td>\n      <td>2.0</td>\n      <td>($4.00)</td>\n      <td>($8.00)</td>\n      <td>N</td>\n    </tr>\n    <tr>\n      <th>344</th>\n      <td>12/30/2021</td>\n      <td>12/30/2021</td>\n      <td>1/3/2022</td>\n      <td>TSLA</td>\n      <td>Tesla</td>\n      <td>Buy</td>\n      <td>2.0</td>\n      <td>($7.00)</td>\n      <td>$4.00</td>\n      <td>N</td>\n    </tr>\n    <tr>\n      <th>345</th>\n      <td>12/30/2021</td>\n      <td>12/30/2021</td>\n      <td>1/3/2022</td>\n      <td>TSLA</td>\n      <td>Tesla</td>\n      <td>Sell</td>\n      <td>2.0</td>\n      <td>($9.00)</td>\n      <td>($5.00)</td>\n      <td>N</td>\n    </tr>\n    <tr>\n      <th>532</th>\n      <td>3/16/2021</td>\n      <td>3/16/2021</td>\n      <td>3/18/2021</td>\n      <td>TSLA</td>\n      <td>Tesla</td>\n      <td>Buy</td>\n      <td>2.0</td>\n      <td>($3.00)</td>\n      <td>($10.00)</td>\n      <td>N</td>\n    </tr>\n    <tr>\n      <th>552</th>\n      <td>3/2/2021</td>\n      <td>3/2/2021</td>\n      <td>3/4/2021</td>\n      <td>TSLA</td>\n      <td>Tesla</td>\n      <td>Buy</td>\n      <td>2.0</td>\n      <td>$7.00</td>\n      <td>$3.00</td>\n      <td>N</td>\n    </tr>\n    <tr>\n      <th>565</th>\n      <td>2/16/2021</td>\n      <td>2/16/2021</td>\n      <td>2/18/2021</td>\n      <td>TSLA</td>\n      <td>Tesla</td>\n      <td>Buy</td>\n      <td>2.0</td>\n      <td>$3.00</td>\n      <td>($5.00)</td>\n      <td>N</td>\n    </tr>\n    <tr>\n      <th>570</th>\n      <td>2/2/2021</td>\n      <td>2/2/2021</td>\n      <td>2/4/2021</td>\n      <td>TSLA</td>\n      <td>Tesla</td>\n      <td>Buy</td>\n      <td>2.0</td>\n      <td>$10.00</td>\n      <td>($2.00)</td>\n      <td>N</td>\n    </tr>\n    <tr>\n      <th>581</th>\n      <td>1/19/2021</td>\n      <td>1/19/2021</td>\n      <td>1/21/2021</td>\n      <td>TSLA</td>\n      <td>Tesla</td>\n      <td>Buy</td>\n      <td>2.0</td>\n      <td>$9.00</td>\n      <td>($5.00)</td>\n      <td>N</td>\n    </tr>\n  </tbody>\n</table>\n</div>"
          },
          "metadata": {}
        }
      ]
    },
    {
      "cell_type": "code",
      "source": "",
      "metadata": {},
      "execution_count": null,
      "outputs": []
    },
    {
      "cell_type": "code",
      "source": "",
      "metadata": {},
      "execution_count": null,
      "outputs": []
    },
    {
      "cell_type": "code",
      "source": "",
      "metadata": {},
      "execution_count": null,
      "outputs": []
    }
  ]
}
